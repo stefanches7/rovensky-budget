{
 "cells": [
  {
   "cell_type": "code",
   "execution_count": 14,
   "metadata": {},
   "outputs": [
    {
     "name": "stderr",
     "output_type": "stream",
     "text": [
      "┌ Info: Precompiling CSV [336ed68f-0bac-5ca0-87d4-7b16caf5d00b]\n",
      "└ @ Base loading.jl:1278\n"
     ]
    }
   ],
   "source": [
    "using Pkg\n",
    "#Pkg.add(\"DataFrames\")\n",
    "#Pkg.add(\"HypothesisTests\")\n",
    "#Pkg.add(\"Plots\")\n",
    "#Pkg.add(\"Makie\")\n",
    "#Pkg.add(\"UMAP\")\n",
    "using DataFrames\n",
    "using Plots\n",
    "using HypothesisTests\n",
    "using UMAP\n",
    "using CSV"
   ]
  },
  {
   "cell_type": "code",
   "execution_count": 1,
   "metadata": {},
   "outputs": [
    {
     "ename": "UndefVarError",
     "evalue": "UndefVarError: CSV not defined",
     "output_type": "error",
     "traceback": [
      "UndefVarError: CSV not defined",
      "",
      "Stacktrace:",
      " [1] top-level scope at In[1]:1"
     ]
    }
   ],
   "source": [
    "df = DataFrame!(CSV.File(joinpath(\"data\",\"rural_budget_rovensky.csv\"), normalizenames = true, \n",
    "        header = [:name, :exp, :obs, :pc_diff], skipto = 2));"
   ]
  },
  {
   "cell_type": "code",
   "execution_count": 103,
   "metadata": {},
   "outputs": [],
   "source": [
    "regions = []\n",
    "incomes = Array{Bool, 1}() # income or spenditure record?\n",
    "region = \"\"\n",
    "income = true\n",
    "for i in 1:nrow(df)\n",
    "    if (occursin(r\"Администрация\",df[i,1])) \n",
    "        region = df[i,1] # following rows are records of district\n",
    "    elseif (occursin(r\"всего:\",df[i,1]))\n",
    "        income = occursin(r\"^Доходы\",df[i,1]) # following are income/spenditure records?\n",
    "    end\n",
    "    push!(regions, region)\n",
    "    push!(incomes, income)\n",
    "end\n",
    "df.region = regions\n",
    "df.income = map(x -> (x ? \"income\" : \"spenditure\"), incomes)\n",
    "deleterows!(df, occursin.(r\"Администрация|всего:\", df[:,1]));"
   ]
  },
  {
   "cell_type": "code",
   "execution_count": 104,
   "metadata": {},
   "outputs": [],
   "source": [
    "d = stack(df, [:exp, :obs, :pc_diff, :income], [:name, :region])\n",
    "df = unstack(d);"
   ]
  },
  {
   "cell_type": "code",
   "execution_count": 106,
   "metadata": {},
   "outputs": [
    {
     "data": {
      "text/plain": [
       "\"j\\\\l\""
      ]
     },
     "execution_count": 106,
     "metadata": {},
     "output_type": "execute_result"
    }
   ],
   "source": []
  }
 ],
 "metadata": {
  "kernelspec": {
   "display_name": "Julia 1.5.0-rc1",
   "language": "julia",
   "name": "julia-1.5"
  },
  "language_info": {
   "file_extension": ".jl",
   "mimetype": "application/julia",
   "name": "julia",
   "version": "1.5.0"
  }
 },
 "nbformat": 4,
 "nbformat_minor": 4
}
